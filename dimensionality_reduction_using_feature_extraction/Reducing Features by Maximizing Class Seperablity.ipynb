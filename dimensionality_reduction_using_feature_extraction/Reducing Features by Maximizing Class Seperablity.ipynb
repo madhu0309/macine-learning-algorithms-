{
 "cells": [
  {
   "cell_type": "code",
   "execution_count": 1,
   "metadata": {},
   "outputs": [],
   "source": [
    "from sklearn import datasets \n",
    "from sklearn.discriminant_analysis import LinearDiscriminantAnalysis"
   ]
  },
  {
   "cell_type": "code",
   "execution_count": 2,
   "metadata": {},
   "outputs": [],
   "source": [
    "iris = datasets.load_iris()\n",
    "features = iris.data\n",
    "target = iris.target"
   ]
  },
  {
   "cell_type": "code",
   "execution_count": 5,
   "metadata": {},
   "outputs": [],
   "source": [
    "lda = LinearDiscriminantAnalysis(n_components=1)\n",
    "features_lda = lda.fit(features, target).transform(features)"
   ]
  },
  {
   "cell_type": "code",
   "execution_count": 6,
   "metadata": {},
   "outputs": [
    {
     "data": {
      "text/plain": [
       "LinearDiscriminantAnalysis(n_components=1, priors=None, shrinkage=None,\n",
       "                           solver='svd', store_covariance=False, tol=0.0001)"
      ]
     },
     "execution_count": 6,
     "metadata": {},
     "output_type": "execute_result"
    }
   ],
   "source": [
    "lda"
   ]
  },
  {
   "cell_type": "code",
   "execution_count": 7,
   "metadata": {},
   "outputs": [
    {
     "data": {
      "text/plain": [
       "array([[ 8.06179978],\n",
       "       [ 7.12868772],\n",
       "       [ 7.48982797],\n",
       "       [ 6.81320057],\n",
       "       [ 8.13230933],\n",
       "       [ 7.70194674],\n",
       "       [ 7.21261762],\n",
       "       [ 7.60529355],\n",
       "       [ 6.56055159],\n",
       "       [ 7.34305989],\n",
       "       [ 8.39738652],\n",
       "       [ 7.21929685],\n",
       "       [ 7.32679599],\n",
       "       [ 7.57247066],\n",
       "       [ 9.849843  ],\n",
       "       [ 9.1582389 ],\n",
       "       [ 8.58243141],\n",
       "       [ 7.78075375],\n",
       "       [ 8.07835876],\n",
       "       [ 8.02097451],\n",
       "       [ 7.49680227],\n",
       "       [ 7.58648117],\n",
       "       [ 8.68104293],\n",
       "       [ 6.25140358],\n",
       "       [ 6.55893336],\n",
       "       [ 6.77138315],\n",
       "       [ 6.82308032],\n",
       "       [ 7.92461638],\n",
       "       [ 7.99129024],\n",
       "       [ 6.82946447],\n",
       "       [ 6.75895493],\n",
       "       [ 7.37495254],\n",
       "       [ 9.12634625],\n",
       "       [ 9.46768199],\n",
       "       [ 7.06201386],\n",
       "       [ 7.95876243],\n",
       "       [ 8.61367201],\n",
       "       [ 8.33041759],\n",
       "       [ 6.93412007],\n",
       "       [ 7.68823131],\n",
       "       [ 7.91793715],\n",
       "       [ 5.66188065],\n",
       "       [ 7.24101468],\n",
       "       [ 6.41443556],\n",
       "       [ 6.85944381],\n",
       "       [ 6.76470393],\n",
       "       [ 8.08189937],\n",
       "       [ 7.18676904],\n",
       "       [ 8.31444876],\n",
       "       [ 7.67196741],\n",
       "       [-1.45927545],\n",
       "       [-1.79770574],\n",
       "       [-2.41694888],\n",
       "       [-2.26247349],\n",
       "       [-2.54867836],\n",
       "       [-2.42996725],\n",
       "       [-2.44848456],\n",
       "       [-0.22266651],\n",
       "       [-1.75020123],\n",
       "       [-1.95842242],\n",
       "       [-1.19376031],\n",
       "       [-1.85892567],\n",
       "       [-1.15809388],\n",
       "       [-2.66605725],\n",
       "       [-0.37836722],\n",
       "       [-1.20117255],\n",
       "       [-2.76810246],\n",
       "       [-0.77685404],\n",
       "       [-3.49805433],\n",
       "       [-1.09042788],\n",
       "       [-3.71589615],\n",
       "       [-0.99761037],\n",
       "       [-3.83525931],\n",
       "       [-2.25741249],\n",
       "       [-1.25571326],\n",
       "       [-1.43755762],\n",
       "       [-2.45906137],\n",
       "       [-3.51848495],\n",
       "       [-2.58979871],\n",
       "       [ 0.30748788],\n",
       "       [-1.10669179],\n",
       "       [-0.60552459],\n",
       "       [-0.89870377],\n",
       "       [-4.49846635],\n",
       "       [-2.93397799],\n",
       "       [-2.10360821],\n",
       "       [-2.14258208],\n",
       "       [-2.47945603],\n",
       "       [-1.32552574],\n",
       "       [-1.95557887],\n",
       "       [-2.4015702 ],\n",
       "       [-2.29248878],\n",
       "       [-1.27227224],\n",
       "       [-0.29317606],\n",
       "       [-2.00598883],\n",
       "       [-1.18166311],\n",
       "       [-1.61615645],\n",
       "       [-1.42158879],\n",
       "       [ 0.47597379],\n",
       "       [-1.54948259],\n",
       "       [-7.83947399],\n",
       "       [-5.50747997],\n",
       "       [-6.2920085 ],\n",
       "       [-5.60545633],\n",
       "       [-6.85055995],\n",
       "       [-7.41816784],\n",
       "       [-4.67799541],\n",
       "       [-6.31692685],\n",
       "       [-6.32773684],\n",
       "       [-6.85281335],\n",
       "       [-4.44072512],\n",
       "       [-5.45009572],\n",
       "       [-5.66033713],\n",
       "       [-5.95823722],\n",
       "       [-6.75926282],\n",
       "       [-5.80704331],\n",
       "       [-5.06601233],\n",
       "       [-6.60881882],\n",
       "       [-9.17147486],\n",
       "       [-4.76453569],\n",
       "       [-6.27283915],\n",
       "       [-5.36071189],\n",
       "       [-7.58119982],\n",
       "       [-4.37150279],\n",
       "       [-5.72317531],\n",
       "       [-5.2791592 ],\n",
       "       [-4.08087208],\n",
       "       [-4.0770364 ],\n",
       "       [-6.51910397],\n",
       "       [-4.58371942],\n",
       "       [-6.22824009],\n",
       "       [-5.22048773],\n",
       "       [-6.80015   ],\n",
       "       [-3.81515972],\n",
       "       [-5.10748966],\n",
       "       [-6.79671631],\n",
       "       [-6.52449599],\n",
       "       [-4.99550279],\n",
       "       [-3.939853  ],\n",
       "       [-5.2038309 ],\n",
       "       [-6.65308685],\n",
       "       [-5.10555946],\n",
       "       [-5.50747997],\n",
       "       [-6.79601924],\n",
       "       [-6.84735943],\n",
       "       [-5.64500346],\n",
       "       [-5.1795646 ],\n",
       "       [-4.9677409 ],\n",
       "       [-5.88614539],\n",
       "       [-4.68315426]])"
      ]
     },
     "execution_count": 7,
     "metadata": {},
     "output_type": "execute_result"
    }
   ],
   "source": [
    "features_lda"
   ]
  },
  {
   "cell_type": "code",
   "execution_count": 8,
   "metadata": {},
   "outputs": [
    {
     "name": "stdout",
     "output_type": "stream",
     "text": [
      "Original number of features: 4\n",
      "Reduced number of features: 1\n"
     ]
    }
   ],
   "source": [
    "print(\"Original number of features:\", features.shape[1])\n",
    "print(\"Reduced number of features:\", features_lda.shape[1])"
   ]
  },
  {
   "cell_type": "code",
   "execution_count": 13,
   "metadata": {},
   "outputs": [
    {
     "data": {
      "text/plain": [
       "array([0.9912126])"
      ]
     },
     "execution_count": 13,
     "metadata": {},
     "output_type": "execute_result"
    }
   ],
   "source": [
    "lda.explained_variance_ratio_"
   ]
  },
  {
   "cell_type": "code",
   "execution_count": null,
   "metadata": {},
   "outputs": [],
   "source": []
  }
 ],
 "metadata": {
  "kernelspec": {
   "display_name": "Python 3.6.9 64-bit",
   "language": "python",
   "name": "python36964bit5c18ea34c0db42e4a61590436e1ee6df"
  },
  "language_info": {
   "codemirror_mode": {
    "name": "ipython",
    "version": 3
   },
   "file_extension": ".py",
   "mimetype": "text/x-python",
   "name": "python",
   "nbconvert_exporter": "python",
   "pygments_lexer": "ipython3",
   "version": "3.6.9"
  }
 },
 "nbformat": 4,
 "nbformat_minor": 4
}
