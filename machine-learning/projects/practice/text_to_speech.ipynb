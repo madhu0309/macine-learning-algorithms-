{
 "cells": [
  {
   "cell_type": "code",
   "execution_count": 4,
   "metadata": {},
   "outputs": [
    {
     "name": "stdout",
     "output_type": "stream",
     "text": [
      "Requirement already satisfied: gTTS in /home/madhu/Madhu/machine_learning/mlenv/lib/python3.6/site-packages (2.1.1)\n",
      "Requirement already satisfied: requests in /home/madhu/Madhu/machine_learning/mlenv/lib/python3.6/site-packages (from gTTS) (2.23.0)\n",
      "Requirement already satisfied: beautifulsoup4 in /home/madhu/Madhu/machine_learning/mlenv/lib/python3.6/site-packages (from gTTS) (4.8.2)\n",
      "Requirement already satisfied: click in /home/madhu/Madhu/machine_learning/mlenv/lib/python3.6/site-packages (from gTTS) (7.1.1)\n",
      "Requirement already satisfied: gtts-token>=1.1.3 in /home/madhu/Madhu/machine_learning/mlenv/lib/python3.6/site-packages (from gTTS) (1.1.3)\n",
      "Requirement already satisfied: six in /home/madhu/Madhu/machine_learning/mlenv/lib/python3.6/site-packages (from gTTS) (1.14.0)\n",
      "Requirement already satisfied: chardet<4,>=3.0.2 in /home/madhu/Madhu/machine_learning/mlenv/lib/python3.6/site-packages (from requests->gTTS) (3.0.4)\n",
      "Requirement already satisfied: certifi>=2017.4.17 in /home/madhu/Madhu/machine_learning/mlenv/lib/python3.6/site-packages (from requests->gTTS) (2019.11.28)\n",
      "Requirement already satisfied: urllib3!=1.25.0,!=1.25.1,<1.26,>=1.21.1 in /home/madhu/Madhu/machine_learning/mlenv/lib/python3.6/site-packages (from requests->gTTS) (1.25.8)\n",
      "Requirement already satisfied: idna<3,>=2.5 in /home/madhu/Madhu/machine_learning/mlenv/lib/python3.6/site-packages (from requests->gTTS) (2.9)\n",
      "Requirement already satisfied: soupsieve>=1.2 in /home/madhu/Madhu/machine_learning/mlenv/lib/python3.6/site-packages (from beautifulsoup4->gTTS) (2.0)\n"
     ]
    }
   ],
   "source": [
    "!pip install gTTS"
   ]
  },
  {
   "cell_type": "code",
   "execution_count": 10,
   "metadata": {},
   "outputs": [
    {
     "data": {
      "text/plain": [
       "32512"
      ]
     },
     "execution_count": 10,
     "metadata": {},
     "output_type": "execute_result"
    }
   ],
   "source": [
    "from gtts import gTTS\n",
    "import os\n",
    "with open('enna.txt', 'r') as file:\n",
    "    mytext = file.read()\n",
    "#mytext = 'Blackbird singing in the dead of night Take these broken wings and learn to fly All your life You were only waiting for this moment to arise'\n",
    "language = 'en'\n",
    "myobj = gTTS(text = mytext, lang=language, slow=False)\n",
    "myobj.save(\"blk.mp3\")\n",
    "os.system(\"mpg321 welcome.mp3\")\n"
   ]
  },
  {
   "cell_type": "code",
   "execution_count": null,
   "metadata": {},
   "outputs": [],
   "source": []
  }
 ],
 "metadata": {
  "kernelspec": {
   "display_name": "Python 3.6.9 64-bit",
   "language": "python",
   "name": "python36964bit5c18ea34c0db42e4a61590436e1ee6df"
  },
  "language_info": {
   "codemirror_mode": {
    "name": "ipython",
    "version": 3
   },
   "file_extension": ".py",
   "mimetype": "text/x-python",
   "name": "python",
   "nbconvert_exporter": "python",
   "pygments_lexer": "ipython3",
   "version": "3.6.9"
  }
 },
 "nbformat": 4,
 "nbformat_minor": 4
}
